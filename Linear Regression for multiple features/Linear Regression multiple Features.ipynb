{
 "cells": [
  {
   "cell_type": "markdown",
   "id": "dc045973-b28a-4b68-a31e-af5ab6e5d663",
   "metadata": {},
   "source": [
    "# Notations\n",
    "<ul><li>n -> number of features</li>\n",
    "<li>m -> number of training examples</li>\n",
    "<li>X -> input data matrix of a shape(m x n)</li>\n",
    "<li>y -> target value(<b>can be a real number</b>)</li>\n",
    "<li>X(i),y(i) -> ith training example</li>\n",
    "<li>x(i,j) -> jth feature of training example </li>\n",
    "<li>theta ->weigts(parameters) of shape ((n+1) x 1)</li>\n",
    "<li>y_hat -> hypothesis(<b>outputs of a real number</b>)</li></ul>\n"
   ]
  },
  {
   "cell_type": "markdown",
   "id": "61e323fc-2776-4c4a-954b-f633feb8186a",
   "metadata": {},
   "source": [
    "## hypothesis function\n",
    "<ul><li>The hypothesis function for linear regression with multiple features is \\(H_{0}:\\beta _{1}=\\beta _{2}=\\cdots =\\beta _{p}=0\\). This hypothesis states that there is no useful linear relationship between the dependent variable (\\(y\\)) and any of the predictor variables (\\(x_{1},x_{2},\\dots ,x_{p}\\)</li>\n",
    "<br>\n",
    "<li><h3>Explanation :</h3></li>\n",
    "<li>In multiple linear regression (MLR), there are multiple independent variables (\\(x_{1},x_{2},\\dots ,x_{p}\\)) and one dependent variable (\\(y\\)). </li>\n",
    "<li>The hypothesis function for MLR tests whether the slope coefficients (\\(\\beta _{1},\\beta _{2},\\dots ,\\beta _{p}\\)) are all equal to zero. </li>\n",
    "<li>If at least one of the slope coefficients is not zero, then the model is considered useful. </li>\n",
    "<li>A joint test is a better way to test the hypothesis than testing each slope coefficient separately. </li>\n",
    "<br>\n",
    "<li><h3>Example :</h3></li>\n",
    "<li>For example, you can use MLR to estimate how crop growth is affected by rainfall, temperature, and fertilizer.</li></ul>\n"
   ]
  },
  {
   "cell_type": "code",
   "execution_count": 3,
   "id": "2f320600-7609-40e2-9b50-044ca6ad487e",
   "metadata": {},
   "outputs": [],
   "source": [
    "import numpy as np\n",
    "from sklearn.datasets import make_regression # to generate a dumy data\n",
    "from sklearn.model_selection import train_test_split\n",
    "import pandas as pd\n",
    "import matplotlib.pyplot as plt\n",
    "import seaborn as sns"
   ]
  },
  {
   "cell_type": "code",
   "execution_count": 158,
   "id": "d6897f87-ba57-4701-ba6d-0db398b06744",
   "metadata": {},
   "outputs": [
    {
     "name": "stdout",
     "output_type": "stream",
     "text": [
      "(500, 10) (500,)\n"
     ]
    }
   ],
   "source": [
    "# step 1 generate the data\n",
    "X,y =make_regression(n_samples=500,n_features=10,n_informative=5,noise=25.8,random_state=0)\n",
    "print(X.shape,y.shape)\n",
    "n_features=X.shape[1]"
   ]
  },
  {
   "cell_type": "code",
   "execution_count": 160,
   "id": "9e1a84e5-c261-438b-aa65-1631fb10a0b6",
   "metadata": {},
   "outputs": [
    {
     "data": {
      "text/html": [
       "<div>\n",
       "<style scoped>\n",
       "    .dataframe tbody tr th:only-of-type {\n",
       "        vertical-align: middle;\n",
       "    }\n",
       "\n",
       "    .dataframe tbody tr th {\n",
       "        vertical-align: top;\n",
       "    }\n",
       "\n",
       "    .dataframe thead th {\n",
       "        text-align: right;\n",
       "    }\n",
       "</style>\n",
       "<table border=\"1\" class=\"dataframe\">\n",
       "  <thead>\n",
       "    <tr style=\"text-align: right;\">\n",
       "      <th></th>\n",
       "      <th>0</th>\n",
       "      <th>1</th>\n",
       "      <th>2</th>\n",
       "      <th>3</th>\n",
       "      <th>4</th>\n",
       "      <th>5</th>\n",
       "      <th>6</th>\n",
       "      <th>7</th>\n",
       "      <th>8</th>\n",
       "      <th>9</th>\n",
       "    </tr>\n",
       "  </thead>\n",
       "  <tbody>\n",
       "    <tr>\n",
       "      <th>0</th>\n",
       "      <td>1.706468</td>\n",
       "      <td>1.511639</td>\n",
       "      <td>-0.000417</td>\n",
       "      <td>0.374155</td>\n",
       "      <td>0.073285</td>\n",
       "      <td>0.701783</td>\n",
       "      <td>0.409552</td>\n",
       "      <td>-0.461894</td>\n",
       "      <td>-0.626490</td>\n",
       "      <td>-0.799593</td>\n",
       "    </tr>\n",
       "    <tr>\n",
       "      <th>1</th>\n",
       "      <td>-1.616956</td>\n",
       "      <td>0.640132</td>\n",
       "      <td>-0.369182</td>\n",
       "      <td>-0.239379</td>\n",
       "      <td>-0.738031</td>\n",
       "      <td>-0.024326</td>\n",
       "      <td>1.099660</td>\n",
       "      <td>0.279925</td>\n",
       "      <td>-0.098150</td>\n",
       "      <td>0.655264</td>\n",
       "    </tr>\n",
       "    <tr>\n",
       "      <th>2</th>\n",
       "      <td>0.093953</td>\n",
       "      <td>-0.130107</td>\n",
       "      <td>0.929505</td>\n",
       "      <td>0.582225</td>\n",
       "      <td>-2.739677</td>\n",
       "      <td>0.943046</td>\n",
       "      <td>-2.094603</td>\n",
       "      <td>-0.569312</td>\n",
       "      <td>0.269904</td>\n",
       "      <td>0.123722</td>\n",
       "    </tr>\n",
       "    <tr>\n",
       "      <th>3</th>\n",
       "      <td>-1.542758</td>\n",
       "      <td>-0.789954</td>\n",
       "      <td>0.537035</td>\n",
       "      <td>-0.286835</td>\n",
       "      <td>-2.369623</td>\n",
       "      <td>-0.767332</td>\n",
       "      <td>1.634406</td>\n",
       "      <td>-0.260560</td>\n",
       "      <td>0.128957</td>\n",
       "      <td>0.571227</td>\n",
       "    </tr>\n",
       "    <tr>\n",
       "      <th>4</th>\n",
       "      <td>-0.101003</td>\n",
       "      <td>-2.231538</td>\n",
       "      <td>0.436187</td>\n",
       "      <td>1.571463</td>\n",
       "      <td>1.324868</td>\n",
       "      <td>-0.587375</td>\n",
       "      <td>1.077315</td>\n",
       "      <td>0.840648</td>\n",
       "      <td>0.261106</td>\n",
       "      <td>0.811090</td>\n",
       "    </tr>\n",
       "  </tbody>\n",
       "</table>\n",
       "</div>"
      ],
      "text/plain": [
       "          0         1         2         3         4         5         6  \\\n",
       "0  1.706468  1.511639 -0.000417  0.374155  0.073285  0.701783  0.409552   \n",
       "1 -1.616956  0.640132 -0.369182 -0.239379 -0.738031 -0.024326  1.099660   \n",
       "2  0.093953 -0.130107  0.929505  0.582225 -2.739677  0.943046 -2.094603   \n",
       "3 -1.542758 -0.789954  0.537035 -0.286835 -2.369623 -0.767332  1.634406   \n",
       "4 -0.101003 -2.231538  0.436187  1.571463  1.324868 -0.587375  1.077315   \n",
       "\n",
       "          7         8         9  \n",
       "0 -0.461894 -0.626490 -0.799593  \n",
       "1  0.279925 -0.098150  0.655264  \n",
       "2 -0.569312  0.269904  0.123722  \n",
       "3 -0.260560  0.128957  0.571227  \n",
       "4  0.840648  0.261106  0.811090  "
      ]
     },
     "execution_count": 160,
     "metadata": {},
     "output_type": "execute_result"
    }
   ],
   "source": [
    "pd.DataFrame(X).head()"
   ]
  },
  {
   "cell_type": "code",
   "execution_count": 162,
   "id": "028d44a8-8bf4-4eb9-972c-b5756be83dbe",
   "metadata": {},
   "outputs": [],
   "source": [
    "# step -2 --normalize the data\n",
    "# X.mean(axis=0).shape\n",
    "def normalise(X):\n",
    "    u=X.mean(axis=0)\n",
    "    std=X.std(axis=0)\n",
    "    return (X-u)/std"
   ]
  },
  {
   "cell_type": "code",
   "execution_count": 164,
   "id": "f8ae82e6-2888-4c4e-b8cc-48e422edfc43",
   "metadata": {},
   "outputs": [
    {
     "data": {
      "text/html": [
       "<div>\n",
       "<style scoped>\n",
       "    .dataframe tbody tr th:only-of-type {\n",
       "        vertical-align: middle;\n",
       "    }\n",
       "\n",
       "    .dataframe tbody tr th {\n",
       "        vertical-align: top;\n",
       "    }\n",
       "\n",
       "    .dataframe thead th {\n",
       "        text-align: right;\n",
       "    }\n",
       "</style>\n",
       "<table border=\"1\" class=\"dataframe\">\n",
       "  <thead>\n",
       "    <tr style=\"text-align: right;\">\n",
       "      <th></th>\n",
       "      <th>0</th>\n",
       "      <th>1</th>\n",
       "      <th>2</th>\n",
       "      <th>3</th>\n",
       "      <th>4</th>\n",
       "      <th>5</th>\n",
       "      <th>6</th>\n",
       "      <th>7</th>\n",
       "      <th>8</th>\n",
       "      <th>9</th>\n",
       "    </tr>\n",
       "  </thead>\n",
       "  <tbody>\n",
       "    <tr>\n",
       "      <th>0</th>\n",
       "      <td>1.764831</td>\n",
       "      <td>1.579606</td>\n",
       "      <td>0.093808</td>\n",
       "      <td>0.341546</td>\n",
       "      <td>0.103202</td>\n",
       "      <td>0.745205</td>\n",
       "      <td>0.421736</td>\n",
       "      <td>-0.461091</td>\n",
       "      <td>-0.710885</td>\n",
       "      <td>-0.761760</td>\n",
       "    </tr>\n",
       "    <tr>\n",
       "      <th>1</th>\n",
       "      <td>-1.612963</td>\n",
       "      <td>0.709920</td>\n",
       "      <td>-0.277540</td>\n",
       "      <td>-0.301827</td>\n",
       "      <td>-0.693297</td>\n",
       "      <td>-0.045695</td>\n",
       "      <td>1.116862</td>\n",
       "      <td>0.265971</td>\n",
       "      <td>-0.166048</td>\n",
       "      <td>0.714702</td>\n",
       "    </tr>\n",
       "    <tr>\n",
       "      <th>2</th>\n",
       "      <td>0.125936</td>\n",
       "      <td>-0.058708</td>\n",
       "      <td>1.030243</td>\n",
       "      <td>0.559735</td>\n",
       "      <td>-2.658385</td>\n",
       "      <td>1.007996</td>\n",
       "      <td>-2.100631</td>\n",
       "      <td>-0.566372</td>\n",
       "      <td>0.213499</td>\n",
       "      <td>0.175267</td>\n",
       "    </tr>\n",
       "    <tr>\n",
       "      <th>3</th>\n",
       "      <td>-1.537551</td>\n",
       "      <td>-0.717175</td>\n",
       "      <td>0.635024</td>\n",
       "      <td>-0.351591</td>\n",
       "      <td>-2.295090</td>\n",
       "      <td>-0.855000</td>\n",
       "      <td>1.655498</td>\n",
       "      <td>-0.263762</td>\n",
       "      <td>0.068151</td>\n",
       "      <td>0.629417</td>\n",
       "    </tr>\n",
       "    <tr>\n",
       "      <th>4</th>\n",
       "      <td>-0.072209</td>\n",
       "      <td>-2.155744</td>\n",
       "      <td>0.533470</td>\n",
       "      <td>1.597083</td>\n",
       "      <td>1.331926</td>\n",
       "      <td>-0.658985</td>\n",
       "      <td>1.094355</td>\n",
       "      <td>0.815541</td>\n",
       "      <td>0.204426</td>\n",
       "      <td>0.872842</td>\n",
       "    </tr>\n",
       "  </tbody>\n",
       "</table>\n",
       "</div>"
      ],
      "text/plain": [
       "          0         1         2         3         4         5         6  \\\n",
       "0  1.764831  1.579606  0.093808  0.341546  0.103202  0.745205  0.421736   \n",
       "1 -1.612963  0.709920 -0.277540 -0.301827 -0.693297 -0.045695  1.116862   \n",
       "2  0.125936 -0.058708  1.030243  0.559735 -2.658385  1.007996 -2.100631   \n",
       "3 -1.537551 -0.717175  0.635024 -0.351591 -2.295090 -0.855000  1.655498   \n",
       "4 -0.072209 -2.155744  0.533470  1.597083  1.331926 -0.658985  1.094355   \n",
       "\n",
       "          7         8         9  \n",
       "0 -0.461091 -0.710885 -0.761760  \n",
       "1  0.265971 -0.166048  0.714702  \n",
       "2 -0.566372  0.213499  0.175267  \n",
       "3 -0.263762  0.068151  0.629417  \n",
       "4  0.815541  0.204426  0.872842  "
      ]
     },
     "execution_count": 164,
     "metadata": {},
     "output_type": "execute_result"
    }
   ],
   "source": [
    "X=normalise(X)\n",
    "pd.DataFrame(X).head()"
   ]
  },
  {
   "cell_type": "code",
   "execution_count": 166,
   "id": "b80b2ee0-b8b2-42b1-9625-3fa5d2b6a926",
   "metadata": {},
   "outputs": [
    {
     "data": {
      "text/plain": [
       "array([-2.75335310e-17,  5.82867088e-17, -1.06581410e-17, -1.39888101e-17,\n",
       "        2.49800181e-18,  4.28546088e-17,  1.43635104e-17,  1.46549439e-17,\n",
       "        7.14983628e-17, -1.07691633e-16])"
      ]
     },
     "execution_count": 166,
     "metadata": {},
     "output_type": "execute_result"
    }
   ],
   "source": [
    "X.mean(axis=0)"
   ]
  },
  {
   "cell_type": "code",
   "execution_count": 168,
   "id": "4de71436-0d59-49a3-9f62-7d6c2404ddef",
   "metadata": {},
   "outputs": [
    {
     "data": {
      "text/plain": [
       "array([1., 1., 1., 1., 1., 1., 1., 1., 1., 1.])"
      ]
     },
     "execution_count": 168,
     "metadata": {},
     "output_type": "execute_result"
    }
   ],
   "source": [
    "X.std(axis=0)"
   ]
  },
  {
   "cell_type": "code",
   "execution_count": 170,
   "id": "605f5087-75e0-437b-acf1-d20831a4445b",
   "metadata": {},
   "outputs": [
    {
     "data": {
      "image/png": "[encoded data removed]",
      "text/plain": [
       "<Figure size 640x480 with 10 Axes>"
      ]
     },
     "metadata": {},
     "output_type": "display_data"
    }
   ],
   "source": [
    "#Visualize y as a function of each feature\n",
    "for f in range(0,10):\n",
    "    plt.subplot(4,3,f+1)  # (3,3 )is a matrix of 3 rows and 3 column\n",
    "    plt.scatter(X[:,f],y)\n",
    "\n",
    "plt.show()"
   ]
  },
  {
   "cell_type": "code",
   "execution_count": 214,
   "id": "76a4c913-6cc9-4c07-938d-1b9348201e4d",
   "metadata": {},
   "outputs": [
    {
     "name": "stdout",
     "output_type": "stream",
     "text": [
      "XT shape: (350, 10)\n",
      "yT shape: (350,)\n",
      "X_test shape: (150, 10)\n",
      "y_test shape: (150,)\n"
     ]
    }
   ],
   "source": [
    "from sklearn.datasets import make_regression\n",
    "from sklearn.model_selection import train_test_split\n",
    "\n",
    "# Generate data\n",
    "X, y = make_regression(n_samples=500, n_features=10, noise=25.8, random_state=0)\n",
    "\n",
    "# Correct splitting\n",
    "XT, Xt, yT, yt = train_test_split(X, y, test_size=0.3, random_state=42)\n",
    "\n",
    "# Debugging outputs\n",
    "print(\"XT shape:\", XT.shape)  # Should be (350, 10)\n",
    "print(\"yT shape:\", yT.shape)  # Should be (350,)\n",
    "print(\"X_test shape:\", Xt.shape)  # Should be (150, 10)\n",
    "print(\"y_test shape:\", yt.shape)  # Should be (150,)\n"
   ]
  },
  {
   "cell_type": "markdown",
   "id": "488658ad-7e7b-4be3-ab16-42e9c47babc2",
   "metadata": {},
   "source": [
    "<img src=\"./gradient desent.png\">"
   ]
  },
  {
   "cell_type": "code",
   "execution_count": 240,
   "id": "d2843e2a-6946-4925-ba3d-88c067989f9f",
   "metadata": {},
   "outputs": [],
   "source": [
    "# Step 5 -- modelling/ Linear Regression with multiple features\n",
    "import numpy as np\n",
    "\n",
    "def preprocess(X):\n",
    "    m = X.shape[0]  # number of samples\n",
    "    ones = np.ones((m, 1))  # column of ones with same number of rows as X\n",
    "    X = np.hstack((ones, X))  # add the ones column to the left of the feature matrix\n",
    "    return X\n",
    "\n"
   ]
  },
  {
   "cell_type": "code",
   "execution_count": 242,
   "id": "63eb4728-3055-4665-9084-6fc9f564fa4a",
   "metadata": {},
   "outputs": [],
   "source": [
    "import numpy as np\n",
    "import matplotlib.pyplot as plt\n",
    "\n",
    "# Hypothesis function (prediction)\n",
    "def hypothesis(X, theta):\n",
    "    return np.dot(X, theta)  # Matrix multiplication for prediction\n",
    "\n",
    "# Loss function (mean squared error)\n",
    "def loss(X, y, theta):\n",
    "    yp = hypothesis(X, theta)  # Prediction\n",
    "    error = np.mean((y - yp) ** 2)  # Mean squared error\n",
    "    return error\n",
    "\n",
    "# Gradient function (for gradient descent)\n",
    "def gradient(X, y, theta):\n",
    "    yp = hypothesis(X, theta)  # Prediction\n",
    "    grad = np.dot(X.T, (yp - y))  # Compute the gradient\n",
    "    m = X.shape[0]  # Number of training examples\n",
    "    return grad / m  # Return the average gradient\n",
    "\n",
    "# Training function with gradient descent\n",
    "def train(X, y, learning_rate=0.1, max_iters=100):\n",
    "    n = X.shape[1]  # Number of features\n",
    "    theta = np.zeros(n)  # Initialize theta as zeros\n",
    "    error_list = []  # To store the loss values\n",
    "    \n",
    "    for i in range(max_iters):\n",
    "        e = loss(X, y, theta)  # Compute the current loss\n",
    "        error_list.append(e)  # Append the loss to error list\n",
    "        grad = gradient(X, y, theta)  # Compute the gradient\n",
    "        theta = theta - learning_rate * grad  # Update theta\n",
    "\n",
    "    # Plotting the error over iterations\n",
    "    plt.plot(error_list)\n",
    "    plt.title('Error over iterations')\n",
    "    plt.xlabel('Iterations')\n",
    "    plt.ylabel('Loss (MSE)')\n",
    "    plt.show()\n",
    "\n",
    "    return theta  # Return the learned parameters (theta)\n",
    "\n"
   ]
  },
  {
   "cell_type": "code",
   "execution_count": 244,
   "id": "fd6bb59d-621b-41a3-8c78-95921d025097",
   "metadata": {
    "scrolled": true
   },
   "outputs": [
    {
     "data": {
      "image/png": "[encoded data removed]",
      "text/plain": [
       "<Figure size 640x480 with 1 Axes>"
      ]
     },
     "metadata": {},
     "output_type": "display_data"
    },
    {
     "name": "stdout",
     "output_type": "stream",
     "text": [
      "[28.74448465 59.21536838 10.8948344  67.20972701 55.93011846 52.2876839\n",
      " 40.92674109 54.46134449  1.63411616 25.16674931]\n"
     ]
    }
   ],
   "source": [
    "# pd.DataFrame(X).head()\n",
    "\n",
    "theta = train(XT,yT)\n",
    "print(theta)"
   ]
  },
  {
   "cell_type": "code",
   "execution_count": 246,
   "id": "ab30b522-57b6-478d-b9e1-7c4ddd2cb133",
   "metadata": {},
   "outputs": [
    {
     "name": "stdout",
     "output_type": "stream",
     "text": [
      "(10,)\n"
     ]
    }
   ],
   "source": [
    "# step 6 -- Evalation\n",
    "print(theta.shape)"
   ]
  },
  {
   "cell_type": "code",
   "execution_count": 225,
   "id": "747c1d3f-3d9f-49c0-aeab-048d77cf6cfd",
   "metadata": {},
   "outputs": [
    {
     "data": {
      "text/plain": [
       "(10,)"
      ]
     },
     "execution_count": 225,
     "metadata": {},
     "output_type": "execute_result"
    }
   ],
   "source": [
    "gradient(XT,yT,theta).shape"
   ]
  },
  {
   "cell_type": "code",
   "execution_count": 227,
   "id": "1433f848-6797-4051-b0d9-2155c55e98c6",
   "metadata": {},
   "outputs": [],
   "source": [
    "def r2Score(y,yp):\n",
    "    ymean = y.mean()\n",
    "    num = np.sum((y-yp)**2)\n",
    "    denom = np.sum((y-ymean)**2)\n",
    "    return 1-num/denom"
   ]
  },
  {
   "cell_type": "code",
   "execution_count": 229,
   "id": "2890341d-1bb2-4f2e-ad7a-26193b3944e1",
   "metadata": {},
   "outputs": [],
   "source": [
    "yp = hypothesis(Xt,theta)"
   ]
  },
  {
   "cell_type": "code",
   "execution_count": null,
   "id": "61f2c862-1f42-40f2-838a-5e8cf0cc07ea",
   "metadata": {},
   "outputs": [],
   "source": []
  },
  {
   "cell_type": "code",
   "execution_count": 238,
   "id": "96268119-f14e-42b4-ae1a-3a2c9226e6cd",
   "metadata": {},
   "outputs": [
    {
     "data": {
      "text/plain": [
       "0.9566154608621071"
      ]
     },
     "execution_count": 238,
     "metadata": {},
     "output_type": "execute_result"
    }
   ],
   "source": [
    "r2Score(yt,yp)"
   ]
  },
  {
   "cell_type": "code",
   "execution_count": null,
   "id": "81f3e65c-e05e-46f0-a4d9-16200ed58d13",
   "metadata": {},
   "outputs": [],
   "source": []
  },
  {
   "cell_type": "code",
   "execution_count": null,
   "id": "3d736b37-58a7-450a-b7f8-3707e808ef0b",
   "metadata": {},
   "outputs": [],
   "source": []
  }
 ],
 "metadata": {
  "kernelspec": {
   "display_name": "Python 3 (ipykernel)",
   "language": "python",
   "name": "python3"
  },
  "language_info": {
   "codemirror_mode": {
    "name": "ipython",
    "version": 3
   },
   "file_extension": ".py",
   "mimetype": "text/x-python",
   "name": "python",
   "nbconvert_exporter": "python",
   "pygments_lexer": "ipython3",
   "version": "3.12.7"
  }
 },
 "nbformat": 4,
 "nbformat_minor": 5
}
